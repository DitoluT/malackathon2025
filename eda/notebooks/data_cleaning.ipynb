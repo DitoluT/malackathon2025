{
 "cells": [
  {
   "cell_type": "markdown",
   "id": "120fd0b6",
   "metadata": {},
   "source": [
    "Cosas a hacer:\n",
    "- Traerme las cosas del EDA.ipynb\n",
    "- Añadir columnas de feature engineering, como menor de edad, español, estancia_larga (si la estancia en días es mayor a 7), dummy encoding de la categoría, \n",
    "- Dividir la tabla en subtablas normalizadas\n",
    "- Meter tabla de, a cada diagnóstico de los principales, asociarles tratamientos, los tratamientos son datos nuevo. También con categorías."
   ]
  },
  {
   "cell_type": "code",
   "execution_count": null,
   "id": "a85e0fb1",
   "metadata": {},
   "outputs": [],
   "source": [
    "# Combinar múltiples factores de complejidad\n",
    "def calcular_complejidad(row):\n",
    "    score = 0\n",
    "    score += row['num_diagnosticos_secundarios'] * 0.3\n",
    "    score += row['num_procedimientos'] * 0.2\n",
    "    score += (row['nivel_severidad_apr'] - 1) * 0.25\n",
    "    score += (row['riesgo_mortalidad_apr'] - 1) * 0.25\n",
    "    return score\n",
    "\n",
    "# Categorías: Baja, Media, Alta, Muy Alta"
   ]
  },
  {
   "cell_type": "markdown",
   "id": "fcf02d8c",
   "metadata": {},
   "source": [
    "Grupos de Riesgo\n",
    "Bajo Riesgo: Severidad 1, Mortalidad 1, <3 diagnósticos\n",
    "Riesgo Moderado: Severidad 2, Mortalidad 1-2\n",
    "Alto Riesgo: Severidad 3-4 o Mortalidad 3-4\n",
    "Riesgo Crítico: Múltiples factores combinados"
   ]
  },
  {
   "cell_type": "markdown",
   "id": "6c713918",
   "metadata": {},
   "source": [
    "2. CATEGORIZACIÓN TEMPORAL Y DEMOGRÁFICA\n",
    "A) Grupos Etarios Especializados en Salud Mental\n",
    "Pediátrico (7-17 años)\n",
    "Joven Adulto (18-30 años) - período crítico para esquizofrenia\n",
    "Adulto Temprano (31-45 años)\n",
    "Adulto Medio (46-60 años)\n",
    "Adulto Mayor (61-75 años)\n",
    "Geriátrico (76+ años)"
   ]
  },
  {
   "cell_type": "markdown",
   "id": "46801f08",
   "metadata": {},
   "source": [
    "B) Estacionalidad Clínica\n",
    "Temporada Alta (Oct-Ene): Mayor incidencia de trastornos afectivos\n",
    "Temporada Media (Feb-May, Ago-Sep)\n",
    "Temporada Baja (Jun-Jul): Menor incidencia"
   ]
  },
  {
   "cell_type": "markdown",
   "id": "4e001f9a",
   "metadata": {},
   "source": [
    "# Basado en estancia, coste y procedimientos\n",
    "def categorizar_usuario(row):\n",
    "    if row['estancia_dias'] <= 5 and row['coste_apr'] <= 4500:\n",
    "        return 'Usuario_Ambulatorio'\n",
    "    elif row['estancia_dias'] <= 15 and row['num_procedimientos'] <= 2:\n",
    "        return 'Usuario_Estándar'\n",
    "    elif row['estancia_dias'] <= 30 and row['coste_apr'] <= 6500:\n",
    "        return 'Usuario_Intensivo'\n",
    "    else:\n",
    "        return 'Usuario_Complejo'"
   ]
  },
  {
   "cell_type": "markdown",
   "id": "9665a606",
   "metadata": {},
   "source": [
    "# Agrupación por patología principal + comorbilidades\n",
    "clusters = {\n",
    "    'Psicótico_Puro': ['F20', 'F25', 'F29'] + poca comorbilidad,\n",
    "    'Psicótico_Complejo': ['F20', 'F25'] + alta comorbilidad,\n",
    "    'Afectivo_Bipolar': ['F31'] + variantes,\n",
    "    'Afectivo_Depresivo': ['F32', 'F33', 'F34'],\n",
    "    'Personalidad_Cluster_B': ['F60.3', 'F60.4', 'F60.5'],\n",
    "    'Adicciones_Comórbidas': Trastornos de sustancias + otros,\n",
    "    'Neurosis_Ansiedad': ['F40', 'F41', 'F43']\n",
    "}"
   ]
  },
  {
   "cell_type": "markdown",
   "id": "af07d422",
   "metadata": {},
   "source": [
    "B) Niveles de Intervención\n",
    "Mínima: Sin procedimientos, estancia <7 días\n",
    "Moderada: 1-3 procedimientos, estancia 7-21 días\n",
    "Intensiva: >3 procedimientos o estancia >21 días\n",
    "Crisis: UCI, alta complejidad, riesgo vital"
   ]
  },
  {
   "cell_type": "markdown",
   "id": "1c1c3bcb",
   "metadata": {},
   "source": [
    "def vulnerabilidad_social(row):\n",
    "    score = 0\n",
    "    if row['pais_nacimiento'] not in ['espana', 'desconocido']:\n",
    "        score += 1\n",
    "    if 'Z63' in str(row['diagnostico_2']):  # Problemas familiares\n",
    "        score += 1\n",
    "    if 'Z59' in str(row['diagnostico_2']):  # Problemas de vivienda\n",
    "        score += 1\n",
    "    # etc."
   ]
  },
  {
   "cell_type": "markdown",
   "id": "8e92372d",
   "metadata": {},
   "source": [
    "def riesgo_readmision(row):\n",
    "    # Basado en: diagnóstico, estancia previa, edad, comorbilidades\n",
    "    if row['categoria'] == 'Esquizofrenia' and row['edad'] < 35:\n",
    "        return 'Alto'\n",
    "    elif row['num_diagnosticos_secundarios'] > 6:\n",
    "        return 'Alto'\n",
    "    # etc."
   ]
  }
 ],
 "metadata": {
  "kernelspec": {
   "display_name": "malackathon (3.12.5)",
   "language": "python",
   "name": "python3"
  },
  "language_info": {
   "name": "python",
   "version": "3.12.5"
  }
 },
 "nbformat": 4,
 "nbformat_minor": 5
}
